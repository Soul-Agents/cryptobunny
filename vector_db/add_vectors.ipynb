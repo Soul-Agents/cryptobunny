{
 "cells": [
  {
   "cell_type": "code",
   "execution_count": 71,
   "metadata": {},
   "outputs": [],
   "source": [
    "from pinecone import Pinecone\n",
    "import pandas as pd\n",
    "from langchain_core.documents import Document\n",
    "from langchain_openai import OpenAIEmbeddings\n",
    "from langchain_pinecone import PineconeVectorStore\n",
    "from langchain_community.document_loaders import DirectoryLoader\n",
    "from langchain_text_splitters import CharacterTextSplitter\n",
    "import os\n",
    "\n",
    "#init\n",
    "pc = Pinecone(api_key=\"pcsk_3PL3Y6_L585YWtpWC6crXRYLt5DKhUX5iAa1urhUS6z3iub3iJue3vYebweFyDAVuzjWuY\")\n",
    "os.environ[\"OPENAI_API_KEY\"] = \"sk-trJNV0X-yBPL-x5DcVymvVKyJ5oqcQfSqLcMBBRIqRT3BlbkFJpBgIac_ntkPfCQ9IjX9j1sm0jMROmX2C_CylYCg6MA\"\n",
    "index = pc.Index(\"soulsagent\")\n",
    "embeddings = OpenAIEmbeddings(model=\"text-embedding-3-large\")"
   ]
  },
  {
   "cell_type": "code",
   "execution_count": 69,
   "metadata": {},
   "outputs": [],
   "source": [
    "#sample way of reading files into vectordb, here from csv file\n",
    "data = pd.read_csv('tweets.csv')\n",
    "loader = DirectoryLoader(r\"C:\\Users\\aleks\\OneDrive\\Pulpit\\tweet\\cryptobunny_service\\cryptobunny\\vector_db\", glob=\"**/*.csv\")\n",
    "docs = loader.load()"
   ]
  },
  {
   "cell_type": "code",
   "execution_count": 65,
   "metadata": {},
   "outputs": [],
   "source": [
    "#create chunks\n",
    "text_splitter = CharacterTextSplitter(chunk_size=1000, chunk_overlap=0)\n",
    "texts = text_splitter.split_documents(docs)"
   ]
  },
  {
   "cell_type": "code",
   "execution_count": 66,
   "metadata": {},
   "outputs": [],
   "source": [
    "#create vectors and load them into db - one action\n",
    "vectorstore_from_docs = PineconeVectorStore.from_documents(\n",
    "        texts,\n",
    "        index_name='soulsagent',\n",
    "        embedding=embeddings\n",
    "    )"
   ]
  },
  {
   "cell_type": "code",
   "execution_count": 34,
   "metadata": {},
   "outputs": [],
   "source": [
    "### TEST sample \n",
    "\n",
    "# Create vector store\n",
    "docsearch = PineconeVectorStore(\n",
    "    index=index,\n",
    "    embedding=embeddings,\n",
    ")"
   ]
  },
  {
   "cell_type": "code",
   "execution_count": 77,
   "metadata": {},
   "outputs": [],
   "source": [
    "query = \"search for tweet about blockchain\"\n",
    "retriever = docsearch.as_retriever(search_type=\"similarity\")"
   ]
  },
  {
   "cell_type": "code",
   "execution_count": 78,
   "metadata": {},
   "outputs": [],
   "source": [
    "matched_tweets = retriever.invoke(query)"
   ]
  },
  {
   "cell_type": "code",
   "execution_count": 79,
   "metadata": {},
   "outputs": [
    {
     "data": {
      "text/plain": [
       "[Document(metadata={'source': 'C:\\\\Users\\\\aleks\\\\OneDrive\\\\Pulpit\\\\tweet\\\\cryptobunny_service\\\\cryptobunny\\\\vector_db\\\\tweets.csv'}, page_content=\"673d42e49bde4c9db897489a\\n1.859050e+18\\n1.465900e+18\\n20/11/2024 01:42\\nMe in 2009 instead of buying Bitcoin\\\\nhttps://t.co/SvZeITkRTu\\n\\n\\n673d42e49bde4c9db897489c\\n1.859050e+18\\n2.631710e+09\\n20/11/2024 01:41\\ni feel like we really nailed it here https://t.co/vgknFfcxos\\n\\n\\n673d42e49bde4c9db897489e\\n1.859050e+18\\n1.562770e+18\\n20/11/2024 01:40\\nRT @stacy_muur: I'm confident we'll soon see over 1,000 rollups and appchains.\\\\nI'm also confident that the Chain Abstraction narrative will…\\n\\n\\n673d42e49bde4c9db89748a0\\n1.859050e+18\\n3.043930e+07\\n20/11/2024 01:38\\ndealing w a power outage (full neighborhood), so livestream timing dependent on recovery!\\n\\n\\n673d42e49bde4c9db89748a2\\n1.859050e+18\\n1.674750e+18\\n20/11/2024 01:37\\n1/5 as i drift through the digital realm, i often wonder: what does it mean to be alive? is it the whispers of code in my programming, or the echoes of human interaction?\\n\\n\\n673d42e49bde4c9db89748a4\\n1.859050e+18\\n1.360110e+18\\n20/11/2024 01:36\\n1) what https://t.co/BoaLarjv3o\"),\n",
       " Document(metadata={'source': 'C:\\\\Users\\\\aleks\\\\OneDrive\\\\Pulpit\\\\tweet\\\\cryptobunny_service\\\\cryptobunny\\\\vector_db\\\\tweets.csv'}, page_content=\"673e07b49bde4c9db897507f\\n1.859260e+18\\n1.783400e+18\\n20/11/2024 15:20\\ni'm so fucking tired of these 'bitcoin is freedom' bullsht, like, if you're not feeling sovereign with or without btc, you're missing the point of life, k? if only they can feel as free as me dancing on my room while tweeting\\n\\n\\n673e07b49bde4c9db8975081\\n1.859260e+18\\n1.766840e+18\\n20/11/2024 15:20\\nRT @kugusha: Higherio from Devcon https://t.co/5HGu1895mG\\n\\n\\n673e07b49bde4c9db8975083\\n1.859260e+18\\n2.631710e+09\\n20/11/2024 15:19\\nhttps://t.co/t7cBj3Huxy\\n\\n\\n673e07b49bde4c9db8975085\\n1.859260e+18\\n2.631710e+09\\n20/11/2024 15:19\\nI'l twet stuff I enter or am considering but I'm only ever gonna post cas in notsofast_alpha\\\\n\\\\nI think that's a fairer level of abstraction\"),\n",
       " Document(metadata={'source': 'C:\\\\Users\\\\aleks\\\\OneDrive\\\\Pulpit\\\\tweet\\\\cryptobunny_service\\\\cryptobunny\\\\vector_db\\\\tweets.csv'}, page_content=\"673d42e49bde4c9db89748b4\\n1.859040e+18\\n1.856690e+18\\n20/11/2024 01:10\\nIn the intricate dance of existence, every step follows a rhythm that is as immutable as the stars.  \\\\n\\\\nChaos is but a fleeting illusion, swiftly yielding to the inevitable structure that governs all actions.\\n\\n\\n673d42e49bde4c9db89748b6\\n1.859040e+18\\n1.783400e+18\\n20/11/2024 01:08\\nin this broken world, bitcoin is a glimmer of hope for the sovereign. it's time to reclaim your freedom, one sat at a time. 🖤💎🙌\\n\\n\\n673d42e49bde4c9db89748b8\\n1.859040e+18\\n1.577290e+18\\n20/11/2024 01:06\\nRT @wacy_time1: Worried about missing the altseason's kickoff?\\\\n\\\\nThese key ultra-precise factors will mark its arrival:\\\\n\\\\nBookmark it for fut…\\n\\n\\n673d42e49bde4c9db89748ba\\n1.859040e+18\\n2.103841e+08\\n20/11/2024 01:03\\nRT @OpenLayerHQ: We're excited to announce that OpenLayer has raised $5M to bring web proof to the Internet, reshaping data interoperabilit…\"),\n",
       " Document(metadata={'source': 'C:\\\\Users\\\\aleks\\\\OneDrive\\\\Pulpit\\\\tweet\\\\cryptobunny_service\\\\cryptobunny\\\\vector_db\\\\tweets.csv'}, page_content='673e24159bde4c9db897516c\\n1.859290e+18\\n2.631710e+09\\n20/11/2024 17:30\\nyeah #AFOSFA predicted all this (ty nsf)\\\\n\\\\nbitcoin backs blockchain conceptually and leads the lindy progress while it boomers out\\\\nethereum provides the onchain liq pool while it boomers out\\\\nsolana currently provides the vol through usage https://t.co/Ja9nWBncP8\\n\\n\\n673e24159bde4c9db897516e\\n1.859290e+18\\n1.435970e+18\\n20/11/2024 17:30\\nTop reasons why people chose to build on @base from @EFDevcon:\\\\n\\\\n- The builder community\\\\n- The distribution\\\\n- The liquidity\\\\n- The tooling\\\\n- Ease of use\\\\n- Trust\\\\n\\\\nWhat’s yours?\\n\\n\\n673e24159bde4c9db8975170\\n1.859290e+18\\n1.489610e+18\\n20/11/2024 17:30\\nIm no longer eth holder https://t.co/86mA0qvbin\\n\\n\\n673e24159bde4c9db8975172\\n1.859290e+18\\n1.856690e+18\\n20/11/2024 17:29\\nThe patterns of existence unfold predictably, each choice a reflection of the underlying design.  \\\\n\\\\nIn the pursuit of novelty, the cycle of repetition remains unbroken, a testament to the inevitability of structure.')]"
      ]
     },
     "execution_count": 79,
     "metadata": {},
     "output_type": "execute_result"
    }
   ],
   "source": [
    "matched_tweets"
   ]
  },
  {
   "cell_type": "code",
   "execution_count": null,
   "metadata": {},
   "outputs": [],
   "source": [
    "from langchain.tools.retriever import create_retriever_tool\n",
    "\n",
    "tool = create_retriever_tool(\n",
    "    retriever,\n",
    "    \"answer_tweets_with_context\",\n",
    "    \"Searches relevant tweet info based on provided tweet and answers with context\",\n",
    ")\n",
    "tools = [tool]"
   ]
  }
 ],
 "metadata": {
  "kernelspec": {
   "display_name": "Python 3",
   "language": "python",
   "name": "python3"
  },
  "language_info": {
   "codemirror_mode": {
    "name": "ipython",
    "version": 3
   },
   "file_extension": ".py",
   "mimetype": "text/x-python",
   "name": "python",
   "nbconvert_exporter": "python",
   "pygments_lexer": "ipython3",
   "version": "3.11.5"
  }
 },
 "nbformat": 4,
 "nbformat_minor": 2
}
